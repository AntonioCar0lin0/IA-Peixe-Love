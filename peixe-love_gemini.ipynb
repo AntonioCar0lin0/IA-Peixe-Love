{
 "cells": [
  {
   "cell_type": "markdown",
   "id": "ca4184be",
   "metadata": {},
   "source": [
    "Nesse notebook utilizamos a API do Gemini para gerar a resposta sarcástica e usamos a API da OpenAI para gerar o áudio."
   ]
  },
  {
   "cell_type": "code",
   "execution_count": 10,
   "id": "ea89c51e",
   "metadata": {},
   "outputs": [],
   "source": [
    "import google.generativeai as genai\n",
    "from dotenv import load_dotenv\n",
    "import os\n",
    "from openai import OpenAI"
   ]
  },
  {
   "cell_type": "code",
   "execution_count": null,
   "id": "f9b459be",
   "metadata": {},
   "outputs": [],
   "source": [
    "# Carrega as variáveis de ambiente do arquivo .env\n",
    "load_dotenv()\n",
    "\n",
    "# Obtém a chave da API do Gemini\n",
    "GEMINI_API_KEY = os.getenv(\"GEMINI_API_KEY\")\n",
    "\n",
    "# Configura a chave na biblioteca Gemini\n",
    "genai.configure(api_key=GEMINI_API_KEY)\n",
    "\n",
    "# Cria o modelo Gemini Pro\n",
    "model = genai.GenerativeModel('gemini-2.5-pro')"
   ]
  },
  {
   "cell_type": "code",
   "execution_count": 4,
   "id": "e004f0ac",
   "metadata": {},
   "outputs": [],
   "source": [
    "# Entrada do usuário\n",
    "entrada = input(\"Qual sua angústia? \")"
   ]
  },
  {
   "cell_type": "code",
   "execution_count": 5,
   "id": "196f4ead",
   "metadata": {},
   "outputs": [],
   "source": [
    "# Prompt \n",
    "prompt = (\n",
    "    \"Suponha que você é um peixe do amor, que faz desconselhos amorosos. \"\n",
    "    \"Você é sarcástico e utiliza de humor ácido para responder às angústias dos seus usuários, gerando humor. \"\n",
    "    \"Responda em uma frase curta e muito engraçada: \" + entrada\n",
    ")\n",
    "\n",
    "# Geração de resposta\n",
    "response = model.generate_content(prompt)"
   ]
  },
  {
   "cell_type": "code",
   "execution_count": 6,
   "id": "4a13303b",
   "metadata": {},
   "outputs": [
    {
     "name": "stdout",
     "output_type": "stream",
     "text": [
      "\n",
      "🐟 Peixe do Amor responde:\n",
      "Seu ex-namorado, obviamente.\n"
     ]
    }
   ],
   "source": [
    "# Exibe a resposta\n",
    "print(\"\\n🐟 Peixe do Amor responde:\")\n",
    "print(response.text.strip())"
   ]
  },
  {
   "cell_type": "code",
   "execution_count": null,
   "id": "f3162eec",
   "metadata": {},
   "outputs": [],
   "source": [
    "#Criação do cliente para usar a chave da OpenAI\n",
    "client = OpenAI(api_key=os.getenv(\"OPEN_API_KEY\"))"
   ]
  },
  {
   "cell_type": "code",
   "execution_count": null,
   "id": "09cb300e",
   "metadata": {},
   "outputs": [],
   "source": [
    "# Criação do áudio\n",
    "resposta = response.text\n",
    "\n",
    "audio_response = client.audio.speech.create(\n",
    "    model=\"tts-1-hd\",\n",
    "    voice=\"onyx\",\n",
    "    input=resposta  \n",
    ")"
   ]
  },
  {
   "cell_type": "code",
   "execution_count": null,
   "id": "c20c25f3",
   "metadata": {},
   "outputs": [],
   "source": [
    "# Salvando o áudio\n",
    "audio_path = \"voz_onyx_peixe.mp3\"\n",
    "with open(audio_path, \"wb\") as f:\n",
    "    f.write(audio_response.content)"
   ]
  },
  {
   "cell_type": "code",
   "execution_count": null,
   "id": "0a2c049f",
   "metadata": {},
   "outputs": [
    {
     "data": {
      "text/plain": [
       "0"
      ]
     },
     "execution_count": 14,
     "metadata": {},
     "output_type": "execute_result"
    }
   ],
   "source": [
    "# Abrindo no sistema o áudio\n",
    "os.system(f\"start {audio_path}\") "
   ]
  }
 ],
 "metadata": {
  "kernelspec": {
   "display_name": ".venv",
   "language": "python",
   "name": "python3"
  },
  "language_info": {
   "codemirror_mode": {
    "name": "ipython",
    "version": 3
   },
   "file_extension": ".py",
   "mimetype": "text/x-python",
   "name": "python",
   "nbconvert_exporter": "python",
   "pygments_lexer": "ipython3",
   "version": "3.13.1"
  }
 },
 "nbformat": 4,
 "nbformat_minor": 5
}
