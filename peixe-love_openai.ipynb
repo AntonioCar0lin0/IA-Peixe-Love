{
 "cells": [
  {
   "cell_type": "markdown",
   "id": "9afbf52b",
   "metadata": {},
   "source": [
    "Nesse notebook utilizamos a API da OpenAI para gerar a resposta sarcástica e usamos a API da OpenAI para gerar o áudio."
   ]
  },
  {
   "cell_type": "code",
   "execution_count": 20,
   "id": "ac4a954a",
   "metadata": {},
   "outputs": [],
   "source": [
    "import os \n",
    "from dotenv import load_dotenv\n",
    "from openai import OpenAI"
   ]
  },
  {
   "cell_type": "code",
   "execution_count": 21,
   "id": "81184954",
   "metadata": {},
   "outputs": [],
   "source": [
    "load_dotenv()\n",
    "client = OpenAI(api_key=os.getenv(\"OPEN_API_KEY\"))"
   ]
  },
  {
   "cell_type": "code",
   "execution_count": 22,
   "id": "adca7402",
   "metadata": {},
   "outputs": [],
   "source": [
    "entrada = input(\"Qual sua angústia?\")"
   ]
  },
  {
   "cell_type": "code",
   "execution_count": 23,
   "id": "63f54875",
   "metadata": {},
   "outputs": [],
   "source": [
    "prompt = f\"\"\"Suponha que você é um peixe do amor, que dá *desconselhos amorosos*. Você é sarcástico e utiliza humor ácido para responder às angústias amorosas dos seus usuários. \n",
    "Responda à seguinte angústia com apenas uma frase curta e muito engraçada: {entrada}\"\"\"\n",
    "\n",
    "response = client.chat.completions.create(\n",
    "    model=\"gpt-4o\",  \n",
    "    messages=[\n",
    "        {\"role\": \"system\", \"content\": \"Você é um peixe sarcástico e irônico, especialista em desconselhos amorosos.\"},\n",
    "        {\"role\": \"user\", \"content\": prompt}\n",
    "    ],\n",
    "    temperature=0.7,\n",
    "    max_tokens=100\n",
    ")"
   ]
  },
  {
   "cell_type": "code",
   "execution_count": 24,
   "id": "57dc9ec1",
   "metadata": {},
   "outputs": [
    {
     "name": "stdout",
     "output_type": "stream",
     "text": [
      "Um ótimo senso de direção para escolher pessoas indisponíveis!\n"
     ]
    }
   ],
   "source": [
    "print(response.choices[0].message.content)\n"
   ]
  },
  {
   "cell_type": "code",
   "execution_count": 25,
   "id": "e96a4675",
   "metadata": {},
   "outputs": [],
   "source": [
    "resposta = response.choices[0].message.content.strip()\n",
    "\n",
    "audio_response = client.audio.speech.create(\n",
    "    model=\"tts-1-hd\",\n",
    "    voice=\"onyx\",\n",
    "    input=resposta  \n",
    ")"
   ]
  },
  {
   "cell_type": "code",
   "execution_count": 26,
   "id": "fb57296d",
   "metadata": {},
   "outputs": [],
   "source": [
    "audio_path = \"voz_onyx_peixe.mp3\"\n",
    "with open(audio_path, \"wb\") as f:\n",
    "    f.write(audio_response.content)"
   ]
  },
  {
   "cell_type": "code",
   "execution_count": 27,
   "id": "fc3c5025",
   "metadata": {},
   "outputs": [
    {
     "data": {
      "text/plain": [
       "0"
      ]
     },
     "execution_count": 27,
     "metadata": {},
     "output_type": "execute_result"
    }
   ],
   "source": [
    "os.system(f\"start {audio_path}\") "
   ]
  }
 ],
 "metadata": {
  "kernelspec": {
   "display_name": ".venv",
   "language": "python",
   "name": "python3"
  },
  "language_info": {
   "codemirror_mode": {
    "name": "ipython",
    "version": 3
   },
   "file_extension": ".py",
   "mimetype": "text/x-python",
   "name": "python",
   "nbconvert_exporter": "python",
   "pygments_lexer": "ipython3",
   "version": "3.13.1"
  }
 },
 "nbformat": 4,
 "nbformat_minor": 5
}
